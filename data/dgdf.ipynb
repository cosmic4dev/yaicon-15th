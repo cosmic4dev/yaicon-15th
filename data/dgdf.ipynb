!pip install datasets
!pip install sentencepiece
!pip install git+https://github.com/Tiiiger/bert_score.git
